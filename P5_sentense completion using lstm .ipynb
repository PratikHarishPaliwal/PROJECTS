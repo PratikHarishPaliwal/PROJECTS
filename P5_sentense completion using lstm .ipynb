{
 "cells": [
  {
   "cell_type": "markdown",
   "id": "8e49ba93",
   "metadata": {},
   "source": [
    "# Read Data file\n"
   ]
  },
  {
   "cell_type": "code",
   "execution_count": 1,
   "id": "6dc174ac",
   "metadata": {},
   "outputs": [
    {
     "data": {
      "text/plain": [
       "581887"
      ]
     },
     "execution_count": 1,
     "metadata": {},
     "output_type": "execute_result"
    }
   ],
   "source": [
    "file = open(\"E:/1_DS_course/deep learning/L15/sherlock.txt\", encoding=\"utf-8\")\n",
    "A = file.read()\n",
    "len(A)"
   ]
  },
  {
   "cell_type": "markdown",
   "id": "d0f739d8",
   "metadata": {},
   "source": [
    "# Preprocessing\n"
   ]
  },
  {
   "cell_type": "code",
   "execution_count": 2,
   "id": "9adf317d",
   "metadata": {},
   "outputs": [
    {
     "data": {
      "text/plain": [
       "['PROJECT',\n",
       " 'GUTENBERGS',\n",
       " 'THE',\n",
       " 'ADVENTURES',\n",
       " 'OF',\n",
       " 'SHERLOCK',\n",
       " 'HOLMES',\n",
       " 'BY',\n",
       " 'ARTHUR',\n",
       " 'CONAN']"
      ]
     },
     "execution_count": 2,
     "metadata": {},
     "output_type": "execute_result"
    }
   ],
   "source": [
    "Q = []\n",
    "from re import sub\n",
    "for i in A[0:10000].split(\" \"):\n",
    "    Q.append(sub(\"[^A-Z0-9]\",\"\",i.upper()))\n",
    "Q[0:10]"
   ]
  },
  {
   "cell_type": "markdown",
   "id": "46b9c05a",
   "metadata": {},
   "source": [
    "# Arrange data in inp and op formats\n"
   ]
  },
  {
   "cell_type": "code",
   "execution_count": 3,
   "id": "4d75283c",
   "metadata": {},
   "outputs": [
    {
     "data": {
      "text/html": [
       "<div>\n",
       "<style scoped>\n",
       "    .dataframe tbody tr th:only-of-type {\n",
       "        vertical-align: middle;\n",
       "    }\n",
       "\n",
       "    .dataframe tbody tr th {\n",
       "        vertical-align: top;\n",
       "    }\n",
       "\n",
       "    .dataframe thead th {\n",
       "        text-align: right;\n",
       "    }\n",
       "</style>\n",
       "<table border=\"1\" class=\"dataframe\">\n",
       "  <thead>\n",
       "    <tr style=\"text-align: right;\">\n",
       "      <th></th>\n",
       "      <th>Input</th>\n",
       "      <th>Output</th>\n",
       "    </tr>\n",
       "  </thead>\n",
       "  <tbody>\n",
       "    <tr>\n",
       "      <th>0</th>\n",
       "      <td>PROJECT GUTENBERGS THE ADVENTURES</td>\n",
       "      <td>OF</td>\n",
       "    </tr>\n",
       "    <tr>\n",
       "      <th>1</th>\n",
       "      <td>GUTENBERGS THE ADVENTURES OF</td>\n",
       "      <td>SHERLOCK</td>\n",
       "    </tr>\n",
       "    <tr>\n",
       "      <th>2</th>\n",
       "      <td>THE ADVENTURES OF SHERLOCK</td>\n",
       "      <td>HOLMES</td>\n",
       "    </tr>\n",
       "    <tr>\n",
       "      <th>3</th>\n",
       "      <td>ADVENTURES OF SHERLOCK HOLMES</td>\n",
       "      <td>BY</td>\n",
       "    </tr>\n",
       "    <tr>\n",
       "      <th>4</th>\n",
       "      <td>OF SHERLOCK HOLMES BY</td>\n",
       "      <td>ARTHUR</td>\n",
       "    </tr>\n",
       "  </tbody>\n",
       "</table>\n",
       "</div>"
      ],
      "text/plain": [
       "                               Input    Output\n",
       "0  PROJECT GUTENBERGS THE ADVENTURES        OF\n",
       "1       GUTENBERGS THE ADVENTURES OF  SHERLOCK\n",
       "2         THE ADVENTURES OF SHERLOCK    HOLMES\n",
       "3      ADVENTURES OF SHERLOCK HOLMES        BY\n",
       "4              OF SHERLOCK HOLMES BY    ARTHUR"
      ]
     },
     "execution_count": 3,
     "metadata": {},
     "output_type": "execute_result"
    }
   ],
   "source": [
    "inp = []\n",
    "op = []\n",
    "for i in range(4,len(Q),1):\n",
    "    w0 = Q[i-4]\n",
    "    w1 = Q[i-3]\n",
    "    w2 = Q[i-2]\n",
    "    w3 = Q[i-1]\n",
    "    w4 = Q[i]\n",
    "    inp.append(w0 + \" \" + w1 + \" \" + w2 + \" \" + w3)\n",
    "    op.append(w4)  \n",
    "import pandas as pd\n",
    "W = pd.DataFrame([inp,op]).T\n",
    "W.columns=[\"Input\",\"Output\"]\n",
    "W.head()"
   ]
  },
  {
   "cell_type": "code",
   "execution_count": 4,
   "id": "95cb6c18",
   "metadata": {},
   "outputs": [
    {
     "data": {
      "text/plain": [
       "(1683, 2)"
      ]
     },
     "execution_count": 4,
     "metadata": {},
     "output_type": "execute_result"
    }
   ],
   "source": [
    "W.shape"
   ]
  },
  {
   "cell_type": "markdown",
   "id": "efa4277f",
   "metadata": {},
   "source": [
    "# Find uniques\n"
   ]
  },
  {
   "cell_type": "code",
   "execution_count": 5,
   "id": "b400f33e",
   "metadata": {},
   "outputs": [
    {
     "data": {
      "text/plain": [
       "768"
      ]
     },
     "execution_count": 5,
     "metadata": {},
     "output_type": "execute_result"
    }
   ],
   "source": [
    "from numpy import unique\n",
    "uniques = unique(Q)\n",
    "len(uniques)"
   ]
  },
  {
   "cell_type": "markdown",
   "id": "d62d8bd3",
   "metadata": {},
   "source": [
    "# Find lookup dictionary for uniques\n"
   ]
  },
  {
   "cell_type": "code",
   "execution_count": 6,
   "id": "14a87274",
   "metadata": {},
   "outputs": [
    {
     "data": {
      "text/plain": [
       "'1661LAST'"
      ]
     },
     "execution_count": 6,
     "metadata": {},
     "output_type": "execute_result"
    }
   ],
   "source": [
    "uniques[1]"
   ]
  },
  {
   "cell_type": "code",
   "execution_count": 7,
   "id": "a669c681",
   "metadata": {},
   "outputs": [],
   "source": [
    "UL = {}\n",
    "for i in range(0,len(uniques),1):\n",
    "    UL[uniques[i]]=i"
   ]
  },
  {
   "cell_type": "code",
   "execution_count": 8,
   "id": "73ebc116",
   "metadata": {},
   "outputs": [
    {
     "data": {
      "text/plain": [
       "41"
      ]
     },
     "execution_count": 8,
     "metadata": {},
     "output_type": "execute_result"
    }
   ],
   "source": [
    "UL[\"AND\"]"
   ]
  },
  {
   "cell_type": "code",
   "execution_count": 9,
   "id": "7ded0a92",
   "metadata": {},
   "outputs": [
    {
     "data": {
      "text/plain": [
       "585"
      ]
     },
     "execution_count": 9,
     "metadata": {},
     "output_type": "execute_result"
    }
   ],
   "source": [
    "UL[\"SHERLOCK\"]"
   ]
  },
  {
   "cell_type": "markdown",
   "id": "d7906d31",
   "metadata": {},
   "source": [
    "# Cube declaration\n"
   ]
  },
  {
   "cell_type": "code",
   "execution_count": 10,
   "id": "80c99db7",
   "metadata": {},
   "outputs": [],
   "source": [
    "no_lines = 1683\n",
    "no_uniques = 768\n",
    "seq = 4"
   ]
  },
  {
   "cell_type": "code",
   "execution_count": 11,
   "id": "e73a3a01",
   "metadata": {},
   "outputs": [],
   "source": [
    "from numpy import zeros\n",
    "Xprov = zeros((no_lines,no_uniques,seq))"
   ]
  },
  {
   "cell_type": "markdown",
   "id": "7b48817b",
   "metadata": {},
   "source": [
    "# Prepare Cube\n"
   ]
  },
  {
   "cell_type": "code",
   "execution_count": 12,
   "id": "88c59e58",
   "metadata": {},
   "outputs": [],
   "source": [
    "for line_number,inp_seq in list(enumerate(inp)):\n",
    "    for word_number,word in enumerate(inp_seq.split(\" \")):\n",
    "        Xprov[line_number,UL[word],word_number]=1"
   ]
  },
  {
   "cell_type": "code",
   "execution_count": 13,
   "id": "e8842a9f",
   "metadata": {},
   "outputs": [],
   "source": [
    "#Xprov[0,525,0]"
   ]
  },
  {
   "cell_type": "markdown",
   "id": "4d01fc54",
   "metadata": {},
   "source": [
    "# Prepare Y\n"
   ]
  },
  {
   "cell_type": "code",
   "execution_count": 14,
   "id": "3c98e987",
   "metadata": {},
   "outputs": [
    {
     "data": {
      "text/plain": [
       "array([[0., 0., 0., ..., 0., 0., 0.],\n",
       "       [0., 0., 0., ..., 0., 0., 0.],\n",
       "       [0., 0., 0., ..., 0., 0., 0.],\n",
       "       ...,\n",
       "       [0., 0., 0., ..., 0., 0., 0.],\n",
       "       [0., 0., 0., ..., 0., 0., 0.],\n",
       "       [0., 0., 0., ..., 0., 0., 0.]])"
      ]
     },
     "execution_count": 14,
     "metadata": {},
     "output_type": "execute_result"
    }
   ],
   "source": [
    "Yprov = zeros((no_lines,no_uniques))\n",
    "for wordno,word in enumerate(op):\n",
    "    Yprov[wordno,UL[word]]=1\n",
    "Yprov"
   ]
  },
  {
   "cell_type": "code",
   "execution_count": 15,
   "id": "e4b4e4ae",
   "metadata": {},
   "outputs": [
    {
     "data": {
      "text/plain": [
       "466"
      ]
     },
     "execution_count": 15,
     "metadata": {},
     "output_type": "execute_result"
    }
   ],
   "source": [
    "UL[\"OF\"]"
   ]
  },
  {
   "cell_type": "code",
   "execution_count": 16,
   "id": "dd532d8c",
   "metadata": {},
   "outputs": [
    {
     "data": {
      "text/plain": [
       "1.0"
      ]
     },
     "execution_count": 16,
     "metadata": {},
     "output_type": "execute_result"
    }
   ],
   "source": [
    "Yprov[0,466]"
   ]
  },
  {
   "cell_type": "markdown",
   "id": "cdffe061",
   "metadata": {},
   "source": [
    "# Create a NN\n"
   ]
  },
  {
   "cell_type": "code",
   "execution_count": 17,
   "id": "9f5900c0",
   "metadata": {},
   "outputs": [
    {
     "name": "stdout",
     "output_type": "stream",
     "text": [
      "Epoch 1/3\n",
      "73/73 [==============================] - 24s 307ms/step - loss: 6.3297 - accuracy: 0.0469 - val_loss: 6.4332 - val_accuracy: 0.0651\n",
      "Epoch 2/3\n",
      "73/73 [==============================] - 21s 293ms/step - loss: 5.9088 - accuracy: 0.0482 - val_loss: 6.7726 - val_accuracy: 0.0651\n",
      "Epoch 3/3\n",
      "73/73 [==============================] - 22s 298ms/step - loss: 5.8239 - accuracy: 0.0462 - val_loss: 7.0798 - val_accuracy: 0.0651\n"
     ]
    }
   ],
   "source": [
    "from keras.models import Sequential\n",
    "from keras.layers import LSTM,Dense,Dropout\n",
    "from keras.activations import softmax\n",
    "nn = Sequential()\n",
    "nn.add(LSTM(128,input_shape=(768,4)))\n",
    "nn.add(Dense(768))\n",
    "nn.add(Dense(768,activation='softmax'))\n",
    "nn.compile(loss=\"categorical_crossentropy\",metrics=[\"accuracy\"],optimizer=\"adam\")\n",
    "model = nn.fit(Xprov,Yprov,validation_split=0.1,epochs=3,batch_size=21)"
   ]
  },
  {
   "cell_type": "markdown",
   "id": "623ec0d6",
   "metadata": {},
   "source": [
    "# Prepare input for prediction\n"
   ]
  },
  {
   "cell_type": "code",
   "execution_count": 18,
   "id": "cfb661ac",
   "metadata": {},
   "outputs": [
    {
     "name": "stdout",
     "output_type": "stream",
     "text": [
      "Enter words: The Adventures of Sherlock\n"
     ]
    }
   ],
   "source": [
    "I = input(\"Enter words: \")\n",
    "I = I.upper()"
   ]
  },
  {
   "cell_type": "code",
   "execution_count": 24,
   "id": "6270b80e",
   "metadata": {},
   "outputs": [],
   "source": [
    "import numpy as np"
   ]
  },
  {
   "cell_type": "code",
   "execution_count": 25,
   "id": "6af4ec03",
   "metadata": {},
   "outputs": [
    {
     "name": "stdout",
     "output_type": "stream",
     "text": [
      "1/1 [==============================] - 0s 37ms/step\n"
     ]
    },
    {
     "data": {
      "text/plain": [
       "'THE'"
      ]
     },
     "execution_count": 25,
     "metadata": {},
     "output_type": "execute_result"
    }
   ],
   "source": [
    "Xop = zeros((1,no_uniques,seq))\n",
    "for word_number,word in enumerate(I.split(\" \")):\n",
    "    Xop[0,UL[word],word_number]=1\n",
    "\n",
    "R = {}\n",
    "for i in range(0,len(UL.values())):\n",
    "    R[list(UL.values())[i]]=list(UL.keys())[i]\n",
    "\n",
    "predicted_val = R[np.argmax(nn.predict(Xop))]\n",
    "predicted_val\n"
   ]
  },
  {
   "cell_type": "code",
   "execution_count": null,
   "id": "a792589b",
   "metadata": {},
   "outputs": [],
   "source": []
  }
 ],
 "metadata": {
  "kernelspec": {
   "display_name": "Python 3",
   "language": "python",
   "name": "python3"
  },
  "language_info": {
   "codemirror_mode": {
    "name": "ipython",
    "version": 3
   },
   "file_extension": ".py",
   "mimetype": "text/x-python",
   "name": "python",
   "nbconvert_exporter": "python",
   "pygments_lexer": "ipython3",
   "version": "3.8.8"
  }
 },
 "nbformat": 4,
 "nbformat_minor": 5
}
