{
 "cells": [
  {
   "cell_type": "markdown",
   "metadata": {},
   "source": [
    "# Fetch Data"
   ]
  },
  {
   "cell_type": "code",
   "execution_count": 3,
   "metadata": {},
   "outputs": [],
   "source": [
    "import pandas as pd\n",
    "A = pd.read_csv(\"Project_5_LSTM_time_series_complete/Google_Stock_Price_Train.csv\")"
   ]
  },
  {
   "cell_type": "code",
   "execution_count": 5,
   "metadata": {},
   "outputs": [
    {
     "data": {
      "text/html": [
       "<div>\n",
       "<style scoped>\n",
       "    .dataframe tbody tr th:only-of-type {\n",
       "        vertical-align: middle;\n",
       "    }\n",
       "\n",
       "    .dataframe tbody tr th {\n",
       "        vertical-align: top;\n",
       "    }\n",
       "\n",
       "    .dataframe thead th {\n",
       "        text-align: right;\n",
       "    }\n",
       "</style>\n",
       "<table border=\"1\" class=\"dataframe\">\n",
       "  <thead>\n",
       "    <tr style=\"text-align: right;\">\n",
       "      <th></th>\n",
       "      <th>Date</th>\n",
       "      <th>Open</th>\n",
       "      <th>High</th>\n",
       "      <th>Low</th>\n",
       "      <th>Close</th>\n",
       "      <th>Volume</th>\n",
       "    </tr>\n",
       "  </thead>\n",
       "  <tbody>\n",
       "    <tr>\n",
       "      <th>0</th>\n",
       "      <td>1/3/2012</td>\n",
       "      <td>325.25</td>\n",
       "      <td>332.83</td>\n",
       "      <td>324.97</td>\n",
       "      <td>663.59</td>\n",
       "      <td>7,380,500</td>\n",
       "    </tr>\n",
       "    <tr>\n",
       "      <th>1</th>\n",
       "      <td>1/4/2012</td>\n",
       "      <td>331.27</td>\n",
       "      <td>333.87</td>\n",
       "      <td>329.08</td>\n",
       "      <td>666.45</td>\n",
       "      <td>5,749,400</td>\n",
       "    </tr>\n",
       "    <tr>\n",
       "      <th>2</th>\n",
       "      <td>1/5/2012</td>\n",
       "      <td>329.83</td>\n",
       "      <td>330.75</td>\n",
       "      <td>326.89</td>\n",
       "      <td>657.21</td>\n",
       "      <td>6,590,300</td>\n",
       "    </tr>\n",
       "    <tr>\n",
       "      <th>3</th>\n",
       "      <td>1/6/2012</td>\n",
       "      <td>328.34</td>\n",
       "      <td>328.77</td>\n",
       "      <td>323.68</td>\n",
       "      <td>648.24</td>\n",
       "      <td>5,405,900</td>\n",
       "    </tr>\n",
       "    <tr>\n",
       "      <th>4</th>\n",
       "      <td>1/9/2012</td>\n",
       "      <td>322.04</td>\n",
       "      <td>322.29</td>\n",
       "      <td>309.46</td>\n",
       "      <td>620.76</td>\n",
       "      <td>11,688,800</td>\n",
       "    </tr>\n",
       "  </tbody>\n",
       "</table>\n",
       "</div>"
      ],
      "text/plain": [
       "       Date    Open    High     Low   Close      Volume\n",
       "0  1/3/2012  325.25  332.83  324.97  663.59   7,380,500\n",
       "1  1/4/2012  331.27  333.87  329.08  666.45   5,749,400\n",
       "2  1/5/2012  329.83  330.75  326.89  657.21   6,590,300\n",
       "3  1/6/2012  328.34  328.77  323.68  648.24   5,405,900\n",
       "4  1/9/2012  322.04  322.29  309.46  620.76  11,688,800"
      ]
     },
     "execution_count": 5,
     "metadata": {},
     "output_type": "execute_result"
    }
   ],
   "source": [
    "A.head()"
   ]
  },
  {
   "cell_type": "code",
   "execution_count": 6,
   "metadata": {},
   "outputs": [
    {
     "name": "stdout",
     "output_type": "stream",
     "text": [
      "<class 'pandas.core.frame.DataFrame'>\n",
      "RangeIndex: 1258 entries, 0 to 1257\n",
      "Data columns (total 6 columns):\n",
      "Date      1258 non-null object\n",
      "Open      1258 non-null float64\n",
      "High      1258 non-null float64\n",
      "Low       1258 non-null float64\n",
      "Close     1258 non-null object\n",
      "Volume    1258 non-null object\n",
      "dtypes: float64(3), object(3)\n",
      "memory usage: 59.0+ KB\n"
     ]
    }
   ],
   "source": [
    "A.info()"
   ]
  },
  {
   "cell_type": "markdown",
   "metadata": {},
   "source": [
    "# Prepare Data"
   ]
  },
  {
   "cell_type": "code",
   "execution_count": 10,
   "metadata": {},
   "outputs": [
    {
     "data": {
      "text/html": [
       "<div>\n",
       "<style scoped>\n",
       "    .dataframe tbody tr th:only-of-type {\n",
       "        vertical-align: middle;\n",
       "    }\n",
       "\n",
       "    .dataframe tbody tr th {\n",
       "        vertical-align: top;\n",
       "    }\n",
       "\n",
       "    .dataframe thead th {\n",
       "        text-align: right;\n",
       "    }\n",
       "</style>\n",
       "<table border=\"1\" class=\"dataframe\">\n",
       "  <thead>\n",
       "    <tr style=\"text-align: right;\">\n",
       "      <th></th>\n",
       "      <th>Date</th>\n",
       "      <th>Open</th>\n",
       "    </tr>\n",
       "  </thead>\n",
       "  <tbody>\n",
       "    <tr>\n",
       "      <th>0</th>\n",
       "      <td>1/3/2012</td>\n",
       "      <td>325.25</td>\n",
       "    </tr>\n",
       "    <tr>\n",
       "      <th>1</th>\n",
       "      <td>1/4/2012</td>\n",
       "      <td>331.27</td>\n",
       "    </tr>\n",
       "    <tr>\n",
       "      <th>2</th>\n",
       "      <td>1/5/2012</td>\n",
       "      <td>329.83</td>\n",
       "    </tr>\n",
       "    <tr>\n",
       "      <th>3</th>\n",
       "      <td>1/6/2012</td>\n",
       "      <td>328.34</td>\n",
       "    </tr>\n",
       "    <tr>\n",
       "      <th>4</th>\n",
       "      <td>1/9/2012</td>\n",
       "      <td>322.04</td>\n",
       "    </tr>\n",
       "  </tbody>\n",
       "</table>\n",
       "</div>"
      ],
      "text/plain": [
       "       Date    Open\n",
       "0  1/3/2012  325.25\n",
       "1  1/4/2012  331.27\n",
       "2  1/5/2012  329.83\n",
       "3  1/6/2012  328.34\n",
       "4  1/9/2012  322.04"
      ]
     },
     "execution_count": 10,
     "metadata": {},
     "output_type": "execute_result"
    }
   ],
   "source": [
    "B = A[[\"Date\",\"Open\"]]\n",
    "B.head()"
   ]
  },
  {
   "cell_type": "code",
   "execution_count": 12,
   "metadata": {},
   "outputs": [
    {
     "name": "stderr",
     "output_type": "stream",
     "text": [
      "/Library/Frameworks/Python.framework/Versions/3.7/lib/python3.7/site-packages/seaborn/distributions.py:2551: FutureWarning: `distplot` is a deprecated function and will be removed in a future version. Please adapt your code to use either `displot` (a figure-level function with similar flexibility) or `histplot` (an axes-level function for histograms).\n",
      "  warnings.warn(msg, FutureWarning)\n"
     ]
    },
    {
     "data": {
      "text/plain": [
       "<matplotlib.axes._subplots.AxesSubplot at 0x11fd432b0>"
      ]
     },
     "execution_count": 12,
     "metadata": {},
     "output_type": "execute_result"
    },
    {
     "data": {
      "image/png": "[encoded data removed]",
      "text/plain": [
       "<Figure size 432x288 with 1 Axes>"
      ]
     },
     "metadata": {
      "needs_background": "light"
     },
     "output_type": "display_data"
    }
   ],
   "source": [
    "import seaborn as sb\n",
    "sb.distplot(B.Open)"
   ]
  },
  {
   "cell_type": "code",
   "execution_count": 34,
   "metadata": {},
   "outputs": [],
   "source": [
    "trd = B[[\"Open\"]].values"
   ]
  },
  {
   "cell_type": "code",
   "execution_count": 35,
   "metadata": {},
   "outputs": [],
   "source": [
    "from sklearn.preprocessing import StandardScaler\n",
    "ss = StandardScaler()\n",
    "trd_scaled = ss.fit_transform(trd)"
   ]
  },
  {
   "cell_type": "code",
   "execution_count": 36,
   "metadata": {},
   "outputs": [],
   "source": [
    "X = []\n",
    "Y = []"
   ]
  },
  {
   "cell_type": "code",
   "execution_count": 37,
   "metadata": {},
   "outputs": [
    {
     "data": {
      "text/plain": [
       "(1258, 1)"
      ]
     },
     "execution_count": 37,
     "metadata": {},
     "output_type": "execute_result"
    }
   ],
   "source": [
    "trd.shape"
   ]
  },
  {
   "cell_type": "code",
   "execution_count": 38,
   "metadata": {},
   "outputs": [],
   "source": [
    "for i in range(4,1258,1):\n",
    "    X.append(trd[i-4:i])\n",
    "    Y.append(trd[i])"
   ]
  },
  {
   "cell_type": "raw",
   "metadata": {},
   "source": [
    "trd[0:4]"
   ]
  },
  {
   "cell_type": "raw",
   "metadata": {},
   "source": [
    "trd[4]"
   ]
  },
  {
   "cell_type": "code",
   "execution_count": null,
   "metadata": {},
   "outputs": [],
   "source": []
  },
  {
   "cell_type": "code",
   "execution_count": 40,
   "metadata": {},
   "outputs": [],
   "source": [
    "from numpy import array\n",
    "X_arr = array(X)\n",
    "Y_arr = array(Y)"
   ]
  },
  {
   "cell_type": "code",
   "execution_count": 46,
   "metadata": {},
   "outputs": [
    {
     "data": {
      "text/plain": [
       "(1254, 4, 1)"
      ]
     },
     "execution_count": 46,
     "metadata": {},
     "output_type": "execute_result"
    }
   ],
   "source": [
    "X_arr.shape"
   ]
  },
  {
   "cell_type": "markdown",
   "metadata": {},
   "source": [
    "# Create a NN"
   ]
  },
  {
   "cell_type": "code",
   "execution_count": 61,
   "metadata": {},
   "outputs": [
    {
     "name": "stdout",
     "output_type": "stream",
     "text": [
      "Epoch 1/150\n",
      "40/40 [==============================] - 1s 13ms/step - loss: 301450.5000\n",
      "Epoch 2/150\n",
      "40/40 [==============================] - 1s 13ms/step - loss: 291073.2188\n",
      "Epoch 3/150\n",
      "40/40 [==============================] - 0s 12ms/step - loss: 286004.0312\n",
      "Epoch 4/150\n",
      "40/40 [==============================] - 1s 13ms/step - loss: 281440.6875\n",
      "Epoch 5/150\n",
      "40/40 [==============================] - 1s 13ms/step - loss: 277061.1875\n",
      "Epoch 6/150\n",
      "40/40 [==============================] - 0s 12ms/step - loss: 272826.1250\n",
      "Epoch 7/150\n",
      "40/40 [==============================] - 0s 11ms/step - loss: 268692.9375\n",
      "Epoch 8/150\n",
      "40/40 [==============================] - 0s 12ms/step - loss: 264650.0938\n",
      "Epoch 9/150\n",
      "40/40 [==============================] - 0s 11ms/step - loss: 260660.5938\n",
      "Epoch 10/150\n",
      "40/40 [==============================] - 0s 11ms/step - loss: 256761.6719\n",
      "Epoch 11/150\n",
      "40/40 [==============================] - 0s 11ms/step - loss: 252914.1875\n",
      "Epoch 12/150\n",
      "40/40 [==============================] - 1s 13ms/step - loss: 249125.5312\n",
      "Epoch 13/150\n",
      "40/40 [==============================] - 0s 11ms/step - loss: 245397.4531\n",
      "Epoch 14/150\n",
      "40/40 [==============================] - 0s 12ms/step - loss: 241720.6250\n",
      "Epoch 15/150\n",
      "40/40 [==============================] - 0s 11ms/step - loss: 238085.7188\n",
      "Epoch 16/150\n",
      "40/40 [==============================] - 0s 12ms/step - loss: 234506.4844\n",
      "Epoch 17/150\n",
      "40/40 [==============================] - 0s 11ms/step - loss: 230965.6719\n",
      "Epoch 18/150\n",
      "40/40 [==============================] - 0s 12ms/step - loss: 227473.7031\n",
      "Epoch 19/150\n",
      "40/40 [==============================] - 0s 11ms/step - loss: 224022.3750\n",
      "Epoch 20/150\n",
      "40/40 [==============================] - 0s 12ms/step - loss: 220616.1875\n",
      "Epoch 21/150\n",
      "40/40 [==============================] - 0s 11ms/step - loss: 217259.2344\n",
      "Epoch 22/150\n",
      "40/40 [==============================] - 0s 12ms/step - loss: 213937.3594\n",
      "Epoch 23/150\n",
      "40/40 [==============================] - 0s 11ms/step - loss: 210677.3281\n",
      "Epoch 24/150\n",
      "40/40 [==============================] - 1s 13ms/step - loss: 207456.7812\n",
      "Epoch 25/150\n",
      "40/40 [==============================] - 0s 12ms/step - loss: 204267.2969\n",
      "Epoch 26/150\n",
      "40/40 [==============================] - 0s 12ms/step - loss: 201114.7656\n",
      "Epoch 27/150\n",
      "40/40 [==============================] - 0s 11ms/step - loss: 198006.8594 0s - loss: 2\n",
      "Epoch 28/150\n",
      "40/40 [==============================] - 0s 10ms/step - loss: 194936.6406\n",
      "Epoch 29/150\n",
      "40/40 [==============================] - 0s 10ms/step - loss: 191900.0156\n",
      "Epoch 30/150\n",
      "40/40 [==============================] - 0s 10ms/step - loss: 188898.9844\n",
      "Epoch 31/150\n",
      "40/40 [==============================] - 0s 10ms/step - loss: 185932.8906\n",
      "Epoch 32/150\n",
      "40/40 [==============================] - 1s 13ms/step - loss: 183011.5156\n",
      "Epoch 33/150\n",
      "40/40 [==============================] - 1s 18ms/step - loss: 180121.5156\n",
      "Epoch 34/150\n",
      "40/40 [==============================] - 0s 10ms/step - loss: 177285.1875\n",
      "Epoch 35/150\n",
      "40/40 [==============================] - 0s 12ms/step - loss: 174476.5469 0s - loss:\n",
      "Epoch 36/150\n",
      "40/40 [==============================] - 0s 11ms/step - loss: 171710.8281\n",
      "Epoch 37/150\n",
      "40/40 [==============================] - 0s 11ms/step - loss: 168978.6094\n",
      "Epoch 38/150\n",
      "40/40 [==============================] - 1s 13ms/step - loss: 166274.2656\n",
      "Epoch 39/150\n",
      "40/40 [==============================] - 1s 14ms/step - loss: 163606.7031\n",
      "Epoch 40/150\n",
      "40/40 [==============================] - 0s 12ms/step - loss: 160972.3438\n",
      "Epoch 41/150\n",
      "40/40 [==============================] - 0s 11ms/step - loss: 158379.4375\n",
      "Epoch 42/150\n",
      "40/40 [==============================] - 0s 12ms/step - loss: 155813.6562\n",
      "Epoch 43/150\n",
      "40/40 [==============================] - 0s 12ms/step - loss: 153271.0625\n",
      "Epoch 44/150\n",
      "40/40 [==============================] - 0s 12ms/step - loss: 150780.8906\n",
      "Epoch 45/150\n",
      "40/40 [==============================] - 1s 15ms/step - loss: 148316.2656\n",
      "Epoch 46/150\n",
      "40/40 [==============================] - 0s 11ms/step - loss: 145871.8125\n",
      "Epoch 47/150\n",
      "40/40 [==============================] - 0s 12ms/step - loss: 143469.9219\n",
      "Epoch 48/150\n",
      "40/40 [==============================] - 0s 11ms/step - loss: 141107.9219\n",
      "Epoch 49/150\n",
      "40/40 [==============================] - 1s 13ms/step - loss: 138758.0625\n",
      "Epoch 50/150\n",
      "40/40 [==============================] - 0s 11ms/step - loss: 136436.3438\n",
      "Epoch 51/150\n",
      "40/40 [==============================] - 0s 11ms/step - loss: 134172.5000\n",
      "Epoch 52/150\n",
      "40/40 [==============================] - 0s 12ms/step - loss: 131924.0781\n",
      "Epoch 53/150\n",
      "40/40 [==============================] - 0s 12ms/step - loss: 129706.9453\n",
      "Epoch 54/150\n",
      "40/40 [==============================] - 0s 11ms/step - loss: 127532.3750\n",
      "Epoch 55/150\n",
      "40/40 [==============================] - 0s 11ms/step - loss: 125373.5625\n",
      "Epoch 56/150\n",
      "40/40 [==============================] - 0s 11ms/step - loss: 123243.2422\n",
      "Epoch 57/150\n",
      "40/40 [==============================] - 0s 11ms/step - loss: 121146.5547\n",
      "Epoch 58/150\n",
      "40/40 [==============================] - 0s 12ms/step - loss: 119083.2812\n",
      "Epoch 59/150\n",
      "40/40 [==============================] - 1s 13ms/step - loss: 117040.5000\n",
      "Epoch 60/150\n",
      "40/40 [==============================] - 0s 11ms/step - loss: 115020.1875\n",
      "Epoch 61/150\n",
      "40/40 [==============================] - 1s 15ms/step - loss: 113035.7422\n",
      "Epoch 62/150\n",
      "40/40 [==============================] - 1s 16ms/step - loss: 111078.2266\n",
      "Epoch 63/150\n",
      "40/40 [==============================] - 1s 24ms/step - loss: 109139.7031\n",
      "Epoch 64/150\n",
      "40/40 [==============================] - 1s 17ms/step - loss: 107233.3281\n",
      "Epoch 65/150\n",
      "40/40 [==============================] - 1s 16ms/step - loss: 105366.1016\n",
      "Epoch 66/150\n",
      "40/40 [==============================] - 0s 12ms/step - loss: 103527.6797\n",
      "Epoch 67/150\n",
      "40/40 [==============================] - 0s 11ms/step - loss: 101715.5000\n",
      "Epoch 68/150\n",
      "40/40 [==============================] - 1s 13ms/step - loss: 99929.4609\n",
      "Epoch 69/150\n",
      "40/40 [==============================] - 0s 12ms/step - loss: 98168.7812\n",
      "Epoch 70/150\n",
      "40/40 [==============================] - 0s 10ms/step - loss: 96413.9141\n",
      "Epoch 71/150\n",
      "40/40 [==============================] - 0s 10ms/step - loss: 94704.2422\n",
      "Epoch 72/150\n",
      "40/40 [==============================] - 0s 11ms/step - loss: 93013.3750\n",
      "Epoch 73/150\n",
      "40/40 [==============================] - 1s 16ms/step - loss: 91349.1094\n",
      "Epoch 74/150\n",
      "40/40 [==============================] - 1s 16ms/step - loss: 89705.9922\n",
      "Epoch 75/150\n",
      "40/40 [==============================] - 1s 14ms/step - loss: 88105.5547\n",
      "Epoch 76/150\n",
      "40/40 [==============================] - 1s 15ms/step - loss: 86532.1016\n",
      "Epoch 77/150\n",
      "40/40 [==============================] - 1s 13ms/step - loss: 84977.4297\n",
      "Epoch 78/150\n",
      "40/40 [==============================] - 1s 14ms/step - loss: 83439.9062\n",
      "Epoch 79/150\n",
      "40/40 [==============================] - 0s 11ms/step - loss: 81937.4766\n",
      "Epoch 80/150\n",
      "40/40 [==============================] - 0s 12ms/step - loss: 80453.5781\n",
      "Epoch 81/150\n",
      "40/40 [==============================] - 0s 11ms/step - loss: 79015.1797\n",
      "Epoch 82/150\n",
      "40/40 [==============================] - 0s 11ms/step - loss: 77603.0391\n",
      "Epoch 83/150\n",
      "40/40 [==============================] - 0s 11ms/step - loss: 76195.0938\n",
      "Epoch 84/150\n",
      "40/40 [==============================] - 0s 10ms/step - loss: 74807.9453\n",
      "Epoch 85/150\n",
      "40/40 [==============================] - 0s 10ms/step - loss: 73453.1797\n",
      "Epoch 86/150\n",
      "40/40 [==============================] - 1s 14ms/step - loss: 72125.2891\n",
      "Epoch 87/150\n",
      "40/40 [==============================] - 0s 10ms/step - loss: 70814.6406\n",
      "Epoch 88/150\n",
      "40/40 [==============================] - 0s 12ms/step - loss: 69540.7500\n",
      "Epoch 89/150\n",
      "40/40 [==============================] - 0s 11ms/step - loss: 68274.5156\n",
      "Epoch 90/150\n",
      "40/40 [==============================] - 0s 11ms/step - loss: 67031.2031\n",
      "Epoch 91/150\n",
      "40/40 [==============================] - 0s 11ms/step - loss: 65818.4531\n",
      "Epoch 92/150\n",
      "40/40 [==============================] - 0s 11ms/step - loss: 64632.3828\n",
      "Epoch 93/150\n",
      "40/40 [==============================] - 0s 11ms/step - loss: 63460.3750\n",
      "Epoch 94/150\n",
      "40/40 [==============================] - 0s 10ms/step - loss: 62315.5078\n",
      "Epoch 95/150\n",
      "40/40 [==============================] - 0s 12ms/step - loss: 61186.1289\n",
      "Epoch 96/150\n",
      "40/40 [==============================] - 0s 11ms/step - loss: 60075.0742\n",
      "Epoch 97/150\n",
      "40/40 [==============================] - 0s 11ms/step - loss: 58987.0430\n",
      "Epoch 98/150\n",
      "40/40 [==============================] - 0s 10ms/step - loss: 57920.2344\n",
      "Epoch 99/150\n",
      "40/40 [==============================] - 0s 11ms/step - loss: 56869.8516\n",
      "Epoch 100/150\n",
      "40/40 [==============================] - 0s 10ms/step - loss: 55851.4258\n",
      "Epoch 101/150\n",
      "40/40 [==============================] - 0s 10ms/step - loss: 54847.4648\n",
      "Epoch 102/150\n",
      "40/40 [==============================] - 0s 11ms/step - loss: 53862.6406\n",
      "Epoch 103/150\n",
      "40/40 [==============================] - 0s 10ms/step - loss: 52882.8750\n",
      "Epoch 104/150\n",
      "40/40 [==============================] - 0s 11ms/step - loss: 51937.5859\n",
      "Epoch 105/150\n",
      "40/40 [==============================] - 0s 10ms/step - loss: 51019.6797\n",
      "Epoch 106/150\n",
      "40/40 [==============================] - 0s 11ms/step - loss: 50117.4414\n",
      "Epoch 107/150\n",
      "40/40 [==============================] - 0s 10ms/step - loss: 49241.8945\n",
      "Epoch 108/150\n",
      "40/40 [==============================] - 0s 10ms/step - loss: 48384.2812\n",
      "Epoch 109/150\n",
      "40/40 [==============================] - 0s 10ms/step - loss: 47543.1406\n",
      "Epoch 110/150\n",
      "40/40 [==============================] - 0s 10ms/step - loss: 46705.8984\n",
      "Epoch 111/150\n",
      "40/40 [==============================] - 0s 12ms/step - loss: 45890.5625\n",
      "Epoch 112/150\n",
      "40/40 [==============================] - 0s 10ms/step - loss: 45102.4492\n",
      "Epoch 113/150\n",
      "40/40 [==============================] - 0s 11ms/step - loss: 44323.2461\n",
      "Epoch 114/150\n",
      "40/40 [==============================] - 0s 11ms/step - loss: 43570.0977\n",
      "Epoch 115/150\n",
      "40/40 [==============================] - 0s 11ms/step - loss: 42846.8438\n",
      "Epoch 116/150\n",
      "40/40 [==============================] - 0s 10ms/step - loss: 42120.1641\n",
      "Epoch 117/150\n",
      "40/40 [==============================] - 0s 11ms/step - loss: 41418.0352\n",
      "Epoch 118/150\n",
      "40/40 [==============================] - 0s 11ms/step - loss: 40733.2539\n",
      "Epoch 119/150\n",
      "40/40 [==============================] - 0s 10ms/step - loss: 40082.3242\n",
      "Epoch 120/150\n",
      "40/40 [==============================] - 0s 11ms/step - loss: 39439.8750\n",
      "Epoch 121/150\n",
      "40/40 [==============================] - 0s 11ms/step - loss: 38811.1211\n",
      "Epoch 122/150\n",
      "40/40 [==============================] - 0s 12ms/step - loss: 38195.0508\n",
      "Epoch 123/150\n",
      "40/40 [==============================] - 0s 12ms/step - loss: 37597.7266\n",
      "Epoch 124/150\n",
      "40/40 [==============================] - 0s 11ms/step - loss: 37018.6523\n",
      "Epoch 125/150\n",
      "40/40 [==============================] - 0s 10ms/step - loss: 36448.5781\n",
      "Epoch 126/150\n",
      "40/40 [==============================] - 0s 11ms/step - loss: 35897.1289\n",
      "Epoch 127/150\n",
      "40/40 [==============================] - 0s 10ms/step - loss: 35367.7656\n",
      "Epoch 128/150\n",
      "40/40 [==============================] - 0s 10ms/step - loss: 34858.3359\n",
      "Epoch 129/150\n",
      "40/40 [==============================] - 0s 10ms/step - loss: 34356.3906\n",
      "Epoch 130/150\n",
      "40/40 [==============================] - 0s 10ms/step - loss: 33866.8438\n",
      "Epoch 131/150\n",
      "40/40 [==============================] - 0s 12ms/step - loss: 33391.9336\n",
      "Epoch 132/150\n",
      "40/40 [==============================] - 0s 10ms/step - loss: 32938.9492\n",
      "Epoch 133/150\n",
      "40/40 [==============================] - 0s 10ms/step - loss: 32496.9258\n",
      "Epoch 134/150\n",
      "40/40 [==============================] - 0s 9ms/step - loss: 32069.4551\n",
      "Epoch 135/150\n",
      "40/40 [==============================] - 0s 12ms/step - loss: 31650.5996\n",
      "Epoch 136/150\n",
      "40/40 [==============================] - 0s 9ms/step - loss: 31257.8848\n",
      "Epoch 137/150\n",
      "40/40 [==============================] - 0s 9ms/step - loss: 30875.0723\n",
      "Epoch 138/150\n",
      "40/40 [==============================] - 0s 10ms/step - loss: 30500.7461\n",
      "Epoch 139/150\n",
      "40/40 [==============================] - 0s 9ms/step - loss: 30134.3340\n",
      "Epoch 140/150\n",
      "40/40 [==============================] - 0s 10ms/step - loss: 29783.3496\n",
      "Epoch 141/150\n",
      "40/40 [==============================] - 0s 10ms/step - loss: 29446.9531\n",
      "Epoch 142/150\n",
      "40/40 [==============================] - 0s 10ms/step - loss: 29119.3262\n",
      "Epoch 143/150\n",
      "40/40 [==============================] - 0s 11ms/step - loss: 28812.7051\n",
      "Epoch 144/150\n",
      "40/40 [==============================] - 0s 10ms/step - loss: 28505.4414\n",
      "Epoch 145/150\n",
      "40/40 [==============================] - 0s 10ms/step - loss: 28216.1523\n",
      "Epoch 146/150\n",
      "40/40 [==============================] - 0s 11ms/step - loss: 27936.4648\n",
      "Epoch 147/150\n",
      "40/40 [==============================] - 0s 11ms/step - loss: 27675.5078\n",
      "Epoch 148/150\n",
      "40/40 [==============================] - 0s 10ms/step - loss: 27419.0488\n",
      "Epoch 149/150\n",
      "40/40 [==============================] - 0s 10ms/step - loss: 27171.3301\n",
      "Epoch 150/150\n",
      "40/40 [==============================] - 1s 13ms/step - loss: 26934.2930\n"
     ]
    },
    {
     "data": {
      "text/plain": [
       "<tensorflow.python.keras.callbacks.History at 0x14ce665f8>"
      ]
     },
     "execution_count": 61,
     "metadata": {},
     "output_type": "execute_result"
    }
   ],
   "source": [
    "from keras.models import Sequential\n",
    "from keras.layers import Dense,Dropout,LSTM\n",
    "\n",
    "nn = Sequential()\n",
    "nn.add(LSTM(units=100,return_sequences=True,input_shape=(4, 1)))\n",
    "nn.add(LSTM(units=100))\n",
    "nn.add(Dense(1))\n",
    "nn.compile(optimizer=\"adam\",loss=\"mean_squared_error\")\n",
    "nn.fit(X_arr,Y_arr,epochs=150)"
   ]
  },
  {
   "cell_type": "markdown",
   "metadata": {},
   "source": [
    "# Testing"
   ]
  },
  {
   "cell_type": "code",
   "execution_count": 70,
   "metadata": {},
   "outputs": [],
   "source": [
    "ts = pd.read_csv(\"/users/bajajvbh/Desktop/Vaibhav/Datasets/Google_Stock_Price_Test.csv\")"
   ]
  },
  {
   "cell_type": "code",
   "execution_count": 76,
   "metadata": {},
   "outputs": [],
   "source": [
    "tsd = ts[[\"Open\"]].values\n",
    "from sklearn.preprocessing import StandardScaler\n",
    "ss = StandardScaler()\n",
    "tsd_scaled = ss.fit_transform(tsd)"
   ]
  },
  {
   "cell_type": "code",
   "execution_count": 79,
   "metadata": {},
   "outputs": [
    {
     "data": {
      "text/plain": [
       "(20, 1)"
      ]
     },
     "execution_count": 79,
     "metadata": {},
     "output_type": "execute_result"
    }
   ],
   "source": [
    "tsd.shape"
   ]
  },
  {
   "cell_type": "code",
   "execution_count": 80,
   "metadata": {},
   "outputs": [],
   "source": [
    "Xtest = []\n",
    "Ytest = []\n",
    "for i in range(4,20,1):\n",
    "    Xtest.append(tsd_scaled[i-4:i])\n",
    "    Ytest.append(tsd_scaled[i])"
   ]
  },
  {
   "cell_type": "code",
   "execution_count": 83,
   "metadata": {},
   "outputs": [],
   "source": [
    "Xt_arr = array(Xtest)\n",
    "Yt_arr = array(Ytest)"
   ]
  },
  {
   "cell_type": "code",
   "execution_count": 87,
   "metadata": {},
   "outputs": [],
   "source": [
    "pred_std = nn.predict(Xt_arr)"
   ]
  },
  {
   "cell_type": "code",
   "execution_count": 89,
   "metadata": {},
   "outputs": [],
   "source": [
    "pred = ss.inverse_transform(pred_std)"
   ]
  },
  {
   "cell_type": "code",
   "execution_count": 92,
   "metadata": {},
   "outputs": [
    {
     "data": {
      "text/plain": [
       "1976.606853834774"
      ]
     },
     "execution_count": 92,
     "metadata": {},
     "output_type": "execute_result"
    }
   ],
   "source": [
    "from sklearn.metrics import mean_absolute_error\n",
    "mean_absolute_error(Ytest,pred)"
   ]
  },
  {
   "cell_type": "code",
   "execution_count": 94,
   "metadata": {},
   "outputs": [
    {
     "ename": "ValueError",
     "evalue": "Length of values does not match length of index",
     "output_type": "error",
     "traceback": [
      "\u001b[0;31m---------------------------------------------------------------------------\u001b[0m",
      "\u001b[0;31mValueError\u001b[0m                                Traceback (most recent call last)",
      "\u001b[0;32m<ipython-input-94-ec1d6373073d>\u001b[0m in \u001b[0;36m<module>\u001b[0;34m\u001b[0m\n\u001b[0;32m----> 1\u001b[0;31m \u001b[0mts\u001b[0m\u001b[0;34m[\u001b[0m\u001b[0;34m\"pred\"\u001b[0m\u001b[0;34m]\u001b[0m\u001b[0;34m=\u001b[0m\u001b[0mpred\u001b[0m\u001b[0;34m\u001b[0m\u001b[0;34m\u001b[0m\u001b[0m\n\u001b[0m",
      "\u001b[0;32m~/Library/Python/3.7/lib/python/site-packages/pandas/core/frame.py\u001b[0m in \u001b[0;36m__setitem__\u001b[0;34m(self, key, value)\u001b[0m\n\u001b[1;32m   3368\u001b[0m         \u001b[0;32melse\u001b[0m\u001b[0;34m:\u001b[0m\u001b[0;34m\u001b[0m\u001b[0;34m\u001b[0m\u001b[0m\n\u001b[1;32m   3369\u001b[0m             \u001b[0;31m# set column\u001b[0m\u001b[0;34m\u001b[0m\u001b[0;34m\u001b[0m\u001b[0;34m\u001b[0m\u001b[0m\n\u001b[0;32m-> 3370\u001b[0;31m             \u001b[0mself\u001b[0m\u001b[0;34m.\u001b[0m\u001b[0m_set_item\u001b[0m\u001b[0;34m(\u001b[0m\u001b[0mkey\u001b[0m\u001b[0;34m,\u001b[0m \u001b[0mvalue\u001b[0m\u001b[0;34m)\u001b[0m\u001b[0;34m\u001b[0m\u001b[0;34m\u001b[0m\u001b[0m\n\u001b[0m\u001b[1;32m   3371\u001b[0m \u001b[0;34m\u001b[0m\u001b[0m\n\u001b[1;32m   3372\u001b[0m     \u001b[0;32mdef\u001b[0m \u001b[0m_setitem_slice\u001b[0m\u001b[0;34m(\u001b[0m\u001b[0mself\u001b[0m\u001b[0;34m,\u001b[0m \u001b[0mkey\u001b[0m\u001b[0;34m,\u001b[0m \u001b[0mvalue\u001b[0m\u001b[0;34m)\u001b[0m\u001b[0;34m:\u001b[0m\u001b[0;34m\u001b[0m\u001b[0;34m\u001b[0m\u001b[0m\n",
      "\u001b[0;32m~/Library/Python/3.7/lib/python/site-packages/pandas/core/frame.py\u001b[0m in \u001b[0;36m_set_item\u001b[0;34m(self, key, value)\u001b[0m\n\u001b[1;32m   3443\u001b[0m \u001b[0;34m\u001b[0m\u001b[0m\n\u001b[1;32m   3444\u001b[0m         \u001b[0mself\u001b[0m\u001b[0;34m.\u001b[0m\u001b[0m_ensure_valid_index\u001b[0m\u001b[0;34m(\u001b[0m\u001b[0mvalue\u001b[0m\u001b[0;34m)\u001b[0m\u001b[0;34m\u001b[0m\u001b[0;34m\u001b[0m\u001b[0m\n\u001b[0;32m-> 3445\u001b[0;31m         \u001b[0mvalue\u001b[0m \u001b[0;34m=\u001b[0m \u001b[0mself\u001b[0m\u001b[0;34m.\u001b[0m\u001b[0m_sanitize_column\u001b[0m\u001b[0;34m(\u001b[0m\u001b[0mkey\u001b[0m\u001b[0;34m,\u001b[0m \u001b[0mvalue\u001b[0m\u001b[0;34m)\u001b[0m\u001b[0;34m\u001b[0m\u001b[0;34m\u001b[0m\u001b[0m\n\u001b[0m\u001b[1;32m   3446\u001b[0m         \u001b[0mNDFrame\u001b[0m\u001b[0;34m.\u001b[0m\u001b[0m_set_item\u001b[0m\u001b[0;34m(\u001b[0m\u001b[0mself\u001b[0m\u001b[0;34m,\u001b[0m \u001b[0mkey\u001b[0m\u001b[0;34m,\u001b[0m \u001b[0mvalue\u001b[0m\u001b[0;34m)\u001b[0m\u001b[0;34m\u001b[0m\u001b[0;34m\u001b[0m\u001b[0m\n\u001b[1;32m   3447\u001b[0m \u001b[0;34m\u001b[0m\u001b[0m\n",
      "\u001b[0;32m~/Library/Python/3.7/lib/python/site-packages/pandas/core/frame.py\u001b[0m in \u001b[0;36m_sanitize_column\u001b[0;34m(self, key, value, broadcast)\u001b[0m\n\u001b[1;32m   3628\u001b[0m \u001b[0;34m\u001b[0m\u001b[0m\n\u001b[1;32m   3629\u001b[0m             \u001b[0;31m# turn me into an ndarray\u001b[0m\u001b[0;34m\u001b[0m\u001b[0;34m\u001b[0m\u001b[0;34m\u001b[0m\u001b[0m\n\u001b[0;32m-> 3630\u001b[0;31m             \u001b[0mvalue\u001b[0m \u001b[0;34m=\u001b[0m \u001b[0msanitize_index\u001b[0m\u001b[0;34m(\u001b[0m\u001b[0mvalue\u001b[0m\u001b[0;34m,\u001b[0m \u001b[0mself\u001b[0m\u001b[0;34m.\u001b[0m\u001b[0mindex\u001b[0m\u001b[0;34m,\u001b[0m \u001b[0mcopy\u001b[0m\u001b[0;34m=\u001b[0m\u001b[0;32mFalse\u001b[0m\u001b[0;34m)\u001b[0m\u001b[0;34m\u001b[0m\u001b[0;34m\u001b[0m\u001b[0m\n\u001b[0m\u001b[1;32m   3631\u001b[0m             \u001b[0;32mif\u001b[0m \u001b[0;32mnot\u001b[0m \u001b[0misinstance\u001b[0m\u001b[0;34m(\u001b[0m\u001b[0mvalue\u001b[0m\u001b[0;34m,\u001b[0m \u001b[0;34m(\u001b[0m\u001b[0mnp\u001b[0m\u001b[0;34m.\u001b[0m\u001b[0mndarray\u001b[0m\u001b[0;34m,\u001b[0m \u001b[0mIndex\u001b[0m\u001b[0;34m)\u001b[0m\u001b[0;34m)\u001b[0m\u001b[0;34m:\u001b[0m\u001b[0;34m\u001b[0m\u001b[0;34m\u001b[0m\u001b[0m\n\u001b[1;32m   3632\u001b[0m                 \u001b[0;32mif\u001b[0m \u001b[0misinstance\u001b[0m\u001b[0;34m(\u001b[0m\u001b[0mvalue\u001b[0m\u001b[0;34m,\u001b[0m \u001b[0mlist\u001b[0m\u001b[0;34m)\u001b[0m \u001b[0;32mand\u001b[0m \u001b[0mlen\u001b[0m\u001b[0;34m(\u001b[0m\u001b[0mvalue\u001b[0m\u001b[0;34m)\u001b[0m \u001b[0;34m>\u001b[0m \u001b[0;36m0\u001b[0m\u001b[0;34m:\u001b[0m\u001b[0;34m\u001b[0m\u001b[0;34m\u001b[0m\u001b[0m\n",
      "\u001b[0;32m~/Library/Python/3.7/lib/python/site-packages/pandas/core/internals/construction.py\u001b[0m in \u001b[0;36msanitize_index\u001b[0;34m(data, index, copy)\u001b[0m\n\u001b[1;32m    517\u001b[0m \u001b[0;34m\u001b[0m\u001b[0m\n\u001b[1;32m    518\u001b[0m     \u001b[0;32mif\u001b[0m \u001b[0mlen\u001b[0m\u001b[0;34m(\u001b[0m\u001b[0mdata\u001b[0m\u001b[0;34m)\u001b[0m \u001b[0;34m!=\u001b[0m \u001b[0mlen\u001b[0m\u001b[0;34m(\u001b[0m\u001b[0mindex\u001b[0m\u001b[0;34m)\u001b[0m\u001b[0;34m:\u001b[0m\u001b[0;34m\u001b[0m\u001b[0;34m\u001b[0m\u001b[0m\n\u001b[0;32m--> 519\u001b[0;31m         \u001b[0;32mraise\u001b[0m \u001b[0mValueError\u001b[0m\u001b[0;34m(\u001b[0m\u001b[0;34m'Length of values does not match length of index'\u001b[0m\u001b[0;34m)\u001b[0m\u001b[0;34m\u001b[0m\u001b[0;34m\u001b[0m\u001b[0m\n\u001b[0m\u001b[1;32m    520\u001b[0m \u001b[0;34m\u001b[0m\u001b[0m\n\u001b[1;32m    521\u001b[0m     \u001b[0;32mif\u001b[0m \u001b[0misinstance\u001b[0m\u001b[0;34m(\u001b[0m\u001b[0mdata\u001b[0m\u001b[0;34m,\u001b[0m \u001b[0mABCIndexClass\u001b[0m\u001b[0;34m)\u001b[0m \u001b[0;32mand\u001b[0m \u001b[0;32mnot\u001b[0m \u001b[0mcopy\u001b[0m\u001b[0;34m:\u001b[0m\u001b[0;34m\u001b[0m\u001b[0;34m\u001b[0m\u001b[0m\n",
      "\u001b[0;31mValueError\u001b[0m: Length of values does not match length of index"
     ]
    }
   ],
   "source": [
    "ts[\"pred\"]=pred"
   ]
  },
  {
   "cell_type": "code",
   "execution_count": 98,
   "metadata": {},
   "outputs": [],
   "source": [
    "E = ts[4:21]"
   ]
  },
  {
   "cell_type": "code",
   "execution_count": 99,
   "metadata": {},
   "outputs": [
    {
     "name": "stderr",
     "output_type": "stream",
     "text": [
      "/Library/Frameworks/Python.framework/Versions/3.7/lib/python3.7/site-packages/ipykernel_launcher.py:1: SettingWithCopyWarning: \n",
      "A value is trying to be set on a copy of a slice from a DataFrame.\n",
      "Try using .loc[row_indexer,col_indexer] = value instead\n",
      "\n",
      "See the caveats in the documentation: http://pandas.pydata.org/pandas-docs/stable/indexing.html#indexing-view-versus-copy\n",
      "  \"\"\"Entry point for launching an IPython kernel.\n"
     ]
    }
   ],
   "source": [
    "E[\"pred\"] = pred"
   ]
  },
  {
   "cell_type": "code",
   "execution_count": 100,
   "metadata": {},
   "outputs": [
    {
     "data": {
      "text/html": [
       "<div>\n",
       "<style scoped>\n",
       "    .dataframe tbody tr th:only-of-type {\n",
       "        vertical-align: middle;\n",
       "    }\n",
       "\n",
       "    .dataframe tbody tr th {\n",
       "        vertical-align: top;\n",
       "    }\n",
       "\n",
       "    .dataframe thead th {\n",
       "        text-align: right;\n",
       "    }\n",
       "</style>\n",
       "<table border=\"1\" class=\"dataframe\">\n",
       "  <thead>\n",
       "    <tr style=\"text-align: right;\">\n",
       "      <th></th>\n",
       "      <th>Date</th>\n",
       "      <th>Open</th>\n",
       "      <th>High</th>\n",
       "      <th>Low</th>\n",
       "      <th>Close</th>\n",
       "      <th>Volume</th>\n",
       "      <th>pred</th>\n",
       "    </tr>\n",
       "  </thead>\n",
       "  <tbody>\n",
       "    <tr>\n",
       "      <th>4</th>\n",
       "      <td>1/9/2017</td>\n",
       "      <td>806.40</td>\n",
       "      <td>809.97</td>\n",
       "      <td>802.83</td>\n",
       "      <td>806.65</td>\n",
       "      <td>1,272,400</td>\n",
       "      <td>307.904877</td>\n",
       "    </tr>\n",
       "    <tr>\n",
       "      <th>5</th>\n",
       "      <td>1/10/2017</td>\n",
       "      <td>807.86</td>\n",
       "      <td>809.13</td>\n",
       "      <td>803.51</td>\n",
       "      <td>804.79</td>\n",
       "      <td>1,176,800</td>\n",
       "      <td>269.797119</td>\n",
       "    </tr>\n",
       "    <tr>\n",
       "      <th>6</th>\n",
       "      <td>1/11/2017</td>\n",
       "      <td>805.00</td>\n",
       "      <td>808.15</td>\n",
       "      <td>801.37</td>\n",
       "      <td>807.91</td>\n",
       "      <td>1,065,900</td>\n",
       "      <td>272.206909</td>\n",
       "    </tr>\n",
       "    <tr>\n",
       "      <th>7</th>\n",
       "      <td>1/12/2017</td>\n",
       "      <td>807.14</td>\n",
       "      <td>807.39</td>\n",
       "      <td>799.17</td>\n",
       "      <td>806.36</td>\n",
       "      <td>1,353,100</td>\n",
       "      <td>412.404724</td>\n",
       "    </tr>\n",
       "    <tr>\n",
       "      <th>8</th>\n",
       "      <td>1/13/2017</td>\n",
       "      <td>807.48</td>\n",
       "      <td>811.22</td>\n",
       "      <td>806.69</td>\n",
       "      <td>807.88</td>\n",
       "      <td>1,099,200</td>\n",
       "      <td>860.995605</td>\n",
       "    </tr>\n",
       "    <tr>\n",
       "      <th>9</th>\n",
       "      <td>1/17/2017</td>\n",
       "      <td>807.08</td>\n",
       "      <td>807.14</td>\n",
       "      <td>800.37</td>\n",
       "      <td>804.61</td>\n",
       "      <td>1,362,100</td>\n",
       "      <td>901.217407</td>\n",
       "    </tr>\n",
       "    <tr>\n",
       "      <th>10</th>\n",
       "      <td>1/18/2017</td>\n",
       "      <td>805.81</td>\n",
       "      <td>806.21</td>\n",
       "      <td>800.99</td>\n",
       "      <td>806.07</td>\n",
       "      <td>1,294,400</td>\n",
       "      <td>793.556885</td>\n",
       "    </tr>\n",
       "    <tr>\n",
       "      <th>11</th>\n",
       "      <td>1/19/2017</td>\n",
       "      <td>805.12</td>\n",
       "      <td>809.48</td>\n",
       "      <td>801.80</td>\n",
       "      <td>802.17</td>\n",
       "      <td>919,300</td>\n",
       "      <td>954.998657</td>\n",
       "    </tr>\n",
       "    <tr>\n",
       "      <th>12</th>\n",
       "      <td>1/20/2017</td>\n",
       "      <td>806.91</td>\n",
       "      <td>806.91</td>\n",
       "      <td>801.69</td>\n",
       "      <td>805.02</td>\n",
       "      <td>1,670,000</td>\n",
       "      <td>906.198792</td>\n",
       "    </tr>\n",
       "    <tr>\n",
       "      <th>13</th>\n",
       "      <td>1/23/2017</td>\n",
       "      <td>807.25</td>\n",
       "      <td>820.87</td>\n",
       "      <td>803.74</td>\n",
       "      <td>819.31</td>\n",
       "      <td>1,963,600</td>\n",
       "      <td>808.767700</td>\n",
       "    </tr>\n",
       "    <tr>\n",
       "      <th>14</th>\n",
       "      <td>1/24/2017</td>\n",
       "      <td>822.30</td>\n",
       "      <td>825.90</td>\n",
       "      <td>817.82</td>\n",
       "      <td>823.87</td>\n",
       "      <td>1,474,000</td>\n",
       "      <td>743.541321</td>\n",
       "    </tr>\n",
       "    <tr>\n",
       "      <th>15</th>\n",
       "      <td>1/25/2017</td>\n",
       "      <td>829.62</td>\n",
       "      <td>835.77</td>\n",
       "      <td>825.06</td>\n",
       "      <td>835.67</td>\n",
       "      <td>1,494,500</td>\n",
       "      <td>1041.433838</td>\n",
       "    </tr>\n",
       "    <tr>\n",
       "      <th>16</th>\n",
       "      <td>1/26/2017</td>\n",
       "      <td>837.81</td>\n",
       "      <td>838.00</td>\n",
       "      <td>827.01</td>\n",
       "      <td>832.15</td>\n",
       "      <td>2,973,900</td>\n",
       "      <td>2493.676514</td>\n",
       "    </tr>\n",
       "    <tr>\n",
       "      <th>17</th>\n",
       "      <td>1/27/2017</td>\n",
       "      <td>834.71</td>\n",
       "      <td>841.95</td>\n",
       "      <td>820.44</td>\n",
       "      <td>823.31</td>\n",
       "      <td>2,965,800</td>\n",
       "      <td>5734.103516</td>\n",
       "    </tr>\n",
       "    <tr>\n",
       "      <th>18</th>\n",
       "      <td>1/30/2017</td>\n",
       "      <td>814.66</td>\n",
       "      <td>815.84</td>\n",
       "      <td>799.80</td>\n",
       "      <td>802.32</td>\n",
       "      <td>3,246,600</td>\n",
       "      <td>7493.494141</td>\n",
       "    </tr>\n",
       "    <tr>\n",
       "      <th>19</th>\n",
       "      <td>1/31/2017</td>\n",
       "      <td>796.86</td>\n",
       "      <td>801.25</td>\n",
       "      <td>790.52</td>\n",
       "      <td>796.79</td>\n",
       "      <td>2,160,600</td>\n",
       "      <td>7636.946289</td>\n",
       "    </tr>\n",
       "  </tbody>\n",
       "</table>\n",
       "</div>"
      ],
      "text/plain": [
       "         Date    Open    High     Low   Close     Volume         pred\n",
       "4    1/9/2017  806.40  809.97  802.83  806.65  1,272,400   307.904877\n",
       "5   1/10/2017  807.86  809.13  803.51  804.79  1,176,800   269.797119\n",
       "6   1/11/2017  805.00  808.15  801.37  807.91  1,065,900   272.206909\n",
       "7   1/12/2017  807.14  807.39  799.17  806.36  1,353,100   412.404724\n",
       "8   1/13/2017  807.48  811.22  806.69  807.88  1,099,200   860.995605\n",
       "9   1/17/2017  807.08  807.14  800.37  804.61  1,362,100   901.217407\n",
       "10  1/18/2017  805.81  806.21  800.99  806.07  1,294,400   793.556885\n",
       "11  1/19/2017  805.12  809.48  801.80  802.17    919,300   954.998657\n",
       "12  1/20/2017  806.91  806.91  801.69  805.02  1,670,000   906.198792\n",
       "13  1/23/2017  807.25  820.87  803.74  819.31  1,963,600   808.767700\n",
       "14  1/24/2017  822.30  825.90  817.82  823.87  1,474,000   743.541321\n",
       "15  1/25/2017  829.62  835.77  825.06  835.67  1,494,500  1041.433838\n",
       "16  1/26/2017  837.81  838.00  827.01  832.15  2,973,900  2493.676514\n",
       "17  1/27/2017  834.71  841.95  820.44  823.31  2,965,800  5734.103516\n",
       "18  1/30/2017  814.66  815.84  799.80  802.32  3,246,600  7493.494141\n",
       "19  1/31/2017  796.86  801.25  790.52  796.79  2,160,600  7636.946289"
      ]
     },
     "execution_count": 100,
     "metadata": {},
     "output_type": "execute_result"
    }
   ],
   "source": [
    "E"
   ]
  },
  {
   "cell_type": "markdown",
   "metadata": {},
   "source": [
    "# What will be Forecasted Stock price on 1 February 2017?"
   ]
  },
  {
   "cell_type": "code",
   "execution_count": 113,
   "metadata": {},
   "outputs": [
    {
     "data": {
      "text/plain": [
       "32"
      ]
     },
     "execution_count": 113,
     "metadata": {},
     "output_type": "execute_result"
    }
   ],
   "source": [
    "x = pd.to_datetime(\"2/1/2017\")\n",
    "x.dayofyear"
   ]
  },
  {
   "cell_type": "code",
   "execution_count": 114,
   "metadata": {},
   "outputs": [
    {
     "data": {
      "text/plain": [
       "28"
      ]
     },
     "execution_count": 114,
     "metadata": {},
     "output_type": "execute_result"
    }
   ],
   "source": [
    "32-4"
   ]
  },
  {
   "cell_type": "code",
   "execution_count": 122,
   "metadata": {},
   "outputs": [
    {
     "name": "stdout",
     "output_type": "stream",
     "text": [
      "The day number : 28\n",
      "Resolved date : 01-28-2017\n"
     ]
    }
   ],
   "source": [
    "from datetime import datetime\n",
    "day_num = \"28\"\n",
    "print(\"The day number : \" + str(day_num))\n",
    "day_num.rjust(3 + len(day_num), '0')\n",
    "year = \"2017\"\n",
    "res = datetime.strptime(year + \"-\" + day_num, \"%Y-%j\").strftime(\"%m-%d-%Y\")\n",
    "print(\"Resolved date : \" + str(res))"
   ]
  },
  {
   "cell_type": "code",
   "execution_count": 138,
   "metadata": {},
   "outputs": [
    {
     "data": {
      "text/plain": [
       "array([[837.81],\n",
       "       [834.71],\n",
       "       [814.66],\n",
       "       [796.86]])"
      ]
     },
     "execution_count": 138,
     "metadata": {},
     "output_type": "execute_result"
    }
   ],
   "source": [
    "index_of_date = ts[ts.Date == \"1/26/2017\"].index[0]"
   ]
  },
  {
   "cell_type": "code",
   "execution_count": 141,
   "metadata": {},
   "outputs": [
    {
     "data": {
      "text/plain": [
       "(1254, 4, 1)"
      ]
     },
     "execution_count": 141,
     "metadata": {},
     "output_type": "execute_result"
    }
   ],
   "source": [
    "X_arr.shape"
   ]
  },
  {
   "cell_type": "code",
   "execution_count": 148,
   "metadata": {},
   "outputs": [],
   "source": [
    "t = ts[index_of_date:index_of_date+4][[\"Open\"]].values\n",
    "t = t.reshape(1,4,1)"
   ]
  },
  {
   "cell_type": "code",
   "execution_count": 149,
   "metadata": {},
   "outputs": [
    {
     "data": {
      "text/plain": [
       "array([[472.5758]], dtype=float32)"
      ]
     },
     "execution_count": 149,
     "metadata": {},
     "output_type": "execute_result"
    }
   ],
   "source": [
    "nn.predict(t)"
   ]
  },
  {
   "cell_type": "code",
   "execution_count": null,
   "metadata": {},
   "outputs": [],
   "source": []
  }
 ],
 "metadata": {
  "kernelspec": {
   "display_name": "Python 3",
   "language": "python",
   "name": "python3"
  },
  "language_info": {
   "codemirror_mode": {
    "name": "ipython",
    "version": 3
   },
   "file_extension": ".py",
   "mimetype": "text/x-python",
   "name": "python",
   "nbconvert_exporter": "python",
   "pygments_lexer": "ipython3",
   "version": "3.8.8"
  }
 },
 "nbformat": 4,
 "nbformat_minor": 4
}
